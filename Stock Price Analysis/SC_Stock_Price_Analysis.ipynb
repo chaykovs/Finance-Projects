{
 "cells": [
  {
   "cell_type": "markdown",
   "metadata": {},
   "source": [
    "# NASDAQ 1962-2024 - Stock Price Analysis"
   ]
  },
  {
   "cell_type": "markdown",
   "metadata": {},
   "source": [
    "Import necessary libraries:"
   ]
  },
  {
   "cell_type": "code",
   "execution_count": 1,
   "metadata": {},
   "outputs": [],
   "source": [
    "# Import the necessary libraries\n",
    "# Importing libraries for data manipulation\n",
    "import pandas as pd\n",
    "\n",
    "import numpy as np\n",
    "\n",
    "# Importing libraries for data visualization\n",
    "import matplotlib.pylab as plt\n",
    "\n",
    "# Importing an advanced library for data visualization\n",
    "import seaborn as sns\n",
    "\n",
    "# Importing library for date manipulation\n",
    "from datetime import datetime\n",
    "\n",
    "# To calculate the MSE or RMSE\n",
    "from sklearn.metrics import mean_squared_error\n",
    "\n",
    "# Importing acf and pacf functions\n",
    "from statsmodels.graphics.tsaplots import plot_acf, plot_pacf\n",
    "\n",
    "# Importing models from statsmodels library\n",
    "from statsmodels.tsa.ar_model import AutoReg\n",
    "\n",
    "from statsmodels.tsa.arima.model import ARIMA\n",
    "\n",
    "import ipywidgets as widgets\n",
    "from ipywidgets import interact\n",
    "# To ignore the warnings\n",
    "import warnings\n",
    "warnings.filterwarnings('ignore')"
   ]
  },
  {
   "cell_type": "markdown",
   "metadata": {},
   "source": [
    "## Basic Data Analysis and Cleanup"
   ]
  },
  {
   "cell_type": "code",
   "execution_count": 49,
   "metadata": {},
   "outputs": [
    {
     "data": {
      "text/html": [
       "<div>\n",
       "<style scoped>\n",
       "    .dataframe tbody tr th:only-of-type {\n",
       "        vertical-align: middle;\n",
       "    }\n",
       "\n",
       "    .dataframe tbody tr th {\n",
       "        vertical-align: top;\n",
       "    }\n",
       "\n",
       "    .dataframe thead th {\n",
       "        text-align: right;\n",
       "    }\n",
       "</style>\n",
       "<table border=\"1\" class=\"dataframe\">\n",
       "  <thead>\n",
       "    <tr style=\"text-align: right;\">\n",
       "      <th></th>\n",
       "      <th>Date</th>\n",
       "      <th>Ticker</th>\n",
       "      <th>Exchange</th>\n",
       "      <th>Open</th>\n",
       "      <th>High</th>\n",
       "      <th>Low</th>\n",
       "      <th>Close</th>\n",
       "      <th>Adj Close</th>\n",
       "      <th>Volume</th>\n",
       "    </tr>\n",
       "  </thead>\n",
       "  <tbody>\n",
       "    <tr>\n",
       "      <th>0</th>\n",
       "      <td>2008-01-29</td>\n",
       "      <td>AACG</td>\n",
       "      <td>NASDAQ</td>\n",
       "      <td>9.50</td>\n",
       "      <td>9.99</td>\n",
       "      <td>8.57</td>\n",
       "      <td>8.75</td>\n",
       "      <td>0.702589</td>\n",
       "      <td>1489000.0</td>\n",
       "    </tr>\n",
       "    <tr>\n",
       "      <th>1</th>\n",
       "      <td>2008-01-30</td>\n",
       "      <td>AACG</td>\n",
       "      <td>NASDAQ</td>\n",
       "      <td>8.75</td>\n",
       "      <td>9.15</td>\n",
       "      <td>8.30</td>\n",
       "      <td>8.50</td>\n",
       "      <td>0.682515</td>\n",
       "      <td>219000.0</td>\n",
       "    </tr>\n",
       "    <tr>\n",
       "      <th>2</th>\n",
       "      <td>2008-01-31</td>\n",
       "      <td>AACG</td>\n",
       "      <td>NASDAQ</td>\n",
       "      <td>8.49</td>\n",
       "      <td>10.30</td>\n",
       "      <td>8.49</td>\n",
       "      <td>9.55</td>\n",
       "      <td>0.766826</td>\n",
       "      <td>182300.0</td>\n",
       "    </tr>\n",
       "    <tr>\n",
       "      <th>3</th>\n",
       "      <td>2008-02-01</td>\n",
       "      <td>AACG</td>\n",
       "      <td>NASDAQ</td>\n",
       "      <td>9.93</td>\n",
       "      <td>9.94</td>\n",
       "      <td>9.50</td>\n",
       "      <td>9.51</td>\n",
       "      <td>0.763614</td>\n",
       "      <td>28200.0</td>\n",
       "    </tr>\n",
       "    <tr>\n",
       "      <th>4</th>\n",
       "      <td>2008-02-04</td>\n",
       "      <td>AACG</td>\n",
       "      <td>NASDAQ</td>\n",
       "      <td>9.50</td>\n",
       "      <td>9.71</td>\n",
       "      <td>9.50</td>\n",
       "      <td>9.50</td>\n",
       "      <td>0.762811</td>\n",
       "      <td>8300.0</td>\n",
       "    </tr>\n",
       "  </tbody>\n",
       "</table>\n",
       "</div>"
      ],
      "text/plain": [
       "         Date Ticker Exchange  Open   High   Low  Close  Adj Close     Volume\n",
       "0  2008-01-29   AACG   NASDAQ  9.50   9.99  8.57   8.75   0.702589  1489000.0\n",
       "1  2008-01-30   AACG   NASDAQ  8.75   9.15  8.30   8.50   0.682515   219000.0\n",
       "2  2008-01-31   AACG   NASDAQ  8.49  10.30  8.49   9.55   0.766826   182300.0\n",
       "3  2008-02-01   AACG   NASDAQ  9.93   9.94  9.50   9.51   0.763614    28200.0\n",
       "4  2008-02-04   AACG   NASDAQ  9.50   9.71  9.50   9.50   0.762811     8300.0"
      ]
     },
     "execution_count": 49,
     "metadata": {},
     "output_type": "execute_result"
    }
   ],
   "source": [
    "# import data\n",
    "data = pd.read_csv(\"C:\\\\Users\\\\spase\\\\Desktop\\\\Projects\\\\Data_NASDAQ\\\\NASDAQ1962-2024.csv\")\n",
    "df = data.copy() # make copy to not change data\n",
    "\n",
    "# print first five rows\n",
    "df.head()"
   ]
  },
  {
   "cell_type": "code",
   "execution_count": 50,
   "metadata": {},
   "outputs": [
    {
     "data": {
      "text/plain": [
       "(11470963, 9)"
      ]
     },
     "execution_count": 50,
     "metadata": {},
     "output_type": "execute_result"
    }
   ],
   "source": [
    "# data shape\n",
    "df.shape"
   ]
  },
  {
   "cell_type": "code",
   "execution_count": 51,
   "metadata": {},
   "outputs": [
    {
     "name": "stdout",
     "output_type": "stream",
     "text": [
      "<class 'pandas.core.frame.DataFrame'>\n",
      "RangeIndex: 11470963 entries, 0 to 11470962\n",
      "Data columns (total 9 columns):\n",
      " #   Column     Dtype  \n",
      "---  ------     -----  \n",
      " 0   Date       object \n",
      " 1   Ticker     object \n",
      " 2   Exchange   object \n",
      " 3   Open       float64\n",
      " 4   High       float64\n",
      " 5   Low        float64\n",
      " 6   Close      float64\n",
      " 7   Adj Close  float64\n",
      " 8   Volume     float64\n",
      "dtypes: float64(6), object(3)\n",
      "memory usage: 787.6+ MB\n"
     ]
    }
   ],
   "source": [
    "# data info\n",
    "df.info()"
   ]
  },
  {
   "cell_type": "markdown",
   "metadata": {},
   "source": [
    "Date, Ticker and Exchange are objects, rest are floats."
   ]
  },
  {
   "cell_type": "code",
   "execution_count": 55,
   "metadata": {},
   "outputs": [],
   "source": [
    "# Convert Date to datetime data type\n",
    "df.Date = pd.to_datetime(df.Date,infer_datetime_format=True)"
   ]
  },
  {
   "cell_type": "code",
   "execution_count": 56,
   "metadata": {},
   "outputs": [
    {
     "data": {
      "text/plain": [
       "Date           15705\n",
       "Ticker          3370\n",
       "Exchange           1\n",
       "Open          458220\n",
       "High          484375\n",
       "Low           473964\n",
       "Close         464241\n",
       "Adj Close    3362894\n",
       "Volume        638125\n",
       "dtype: int64"
      ]
     },
     "execution_count": 56,
     "metadata": {},
     "output_type": "execute_result"
    }
   ],
   "source": [
    "# number of unique values in each column\n",
    "df.nunique()"
   ]
  },
  {
   "cell_type": "markdown",
   "metadata": {},
   "source": [
    "We can see that we have 3370 different stocks."
   ]
  },
  {
   "cell_type": "code",
   "execution_count": 58,
   "metadata": {},
   "outputs": [
    {
     "data": {
      "text/plain": [
       "Date           0\n",
       "Ticker       470\n",
       "Exchange       0\n",
       "Open         130\n",
       "High         130\n",
       "Low          130\n",
       "Close        130\n",
       "Adj Close    130\n",
       "Volume       130\n",
       "dtype: int64"
      ]
     },
     "execution_count": 58,
     "metadata": {},
     "output_type": "execute_result"
    }
   ],
   "source": [
    "# number of null values\n",
    "df.isnull().sum()"
   ]
  },
  {
   "cell_type": "markdown",
   "metadata": {},
   "source": [
    "We have 470 rows with no Ticker label (unknown stock) and 130 rows with no stock prices."
   ]
  },
  {
   "cell_type": "code",
   "execution_count": 59,
   "metadata": {},
   "outputs": [],
   "source": [
    "# define array of stocks that have missing data.\n",
    "stocks_with_missing_data = df.loc[pd.isnull(df['Low'])].iloc[:,1].unique()"
   ]
  },
  {
   "cell_type": "code",
   "execution_count": 60,
   "metadata": {},
   "outputs": [
    {
     "name": "stdout",
     "output_type": "stream",
     "text": [
      "['AMNB' 'CRVO' 'ELVN' 'ESGL' 'GAQ' 'JTAI' 'LDWY' 'LUXH' 'NUKK' 'RCAT'\n",
      " 'RENB' 'SHPW' 'TLSI' 'TYGO' 'VSTE']\n"
     ]
    }
   ],
   "source": [
    "print(stocks_with_missing_data)"
   ]
  },
  {
   "cell_type": "markdown",
   "metadata": {},
   "source": [
    "We can see that we have 15 stocks that have some missing values."
   ]
  },
  {
   "cell_type": "code",
   "execution_count": 61,
   "metadata": {},
   "outputs": [
    {
     "data": {
      "text/html": [
       "<div>\n",
       "<style scoped>\n",
       "    .dataframe tbody tr th:only-of-type {\n",
       "        vertical-align: middle;\n",
       "    }\n",
       "\n",
       "    .dataframe tbody tr th {\n",
       "        vertical-align: top;\n",
       "    }\n",
       "\n",
       "    .dataframe thead th {\n",
       "        text-align: right;\n",
       "    }\n",
       "</style>\n",
       "<table border=\"1\" class=\"dataframe\">\n",
       "  <thead>\n",
       "    <tr style=\"text-align: right;\">\n",
       "      <th></th>\n",
       "      <th>Date</th>\n",
       "      <th>Ticker</th>\n",
       "      <th>Exchange</th>\n",
       "      <th>Open</th>\n",
       "      <th>High</th>\n",
       "      <th>Low</th>\n",
       "      <th>Close</th>\n",
       "      <th>Adj Close</th>\n",
       "      <th>Volume</th>\n",
       "    </tr>\n",
       "  </thead>\n",
       "  <tbody>\n",
       "    <tr>\n",
       "      <th>6898133</th>\n",
       "      <td>2022-07-12</td>\n",
       "      <td>NaN</td>\n",
       "      <td>NASDAQ</td>\n",
       "      <td>7.610</td>\n",
       "      <td>13.390</td>\n",
       "      <td>7.510</td>\n",
       "      <td>12.050</td>\n",
       "      <td>12.050</td>\n",
       "      <td>1486800.0</td>\n",
       "    </tr>\n",
       "    <tr>\n",
       "      <th>6898134</th>\n",
       "      <td>2022-07-13</td>\n",
       "      <td>NaN</td>\n",
       "      <td>NASDAQ</td>\n",
       "      <td>9.770</td>\n",
       "      <td>12.000</td>\n",
       "      <td>8.800</td>\n",
       "      <td>8.800</td>\n",
       "      <td>8.800</td>\n",
       "      <td>264400.0</td>\n",
       "    </tr>\n",
       "    <tr>\n",
       "      <th>6898135</th>\n",
       "      <td>2022-07-14</td>\n",
       "      <td>NaN</td>\n",
       "      <td>NASDAQ</td>\n",
       "      <td>8.010</td>\n",
       "      <td>8.260</td>\n",
       "      <td>6.321</td>\n",
       "      <td>7.350</td>\n",
       "      <td>7.350</td>\n",
       "      <td>134100.0</td>\n",
       "    </tr>\n",
       "    <tr>\n",
       "      <th>6898136</th>\n",
       "      <td>2022-07-15</td>\n",
       "      <td>NaN</td>\n",
       "      <td>NASDAQ</td>\n",
       "      <td>7.640</td>\n",
       "      <td>7.820</td>\n",
       "      <td>6.800</td>\n",
       "      <td>6.800</td>\n",
       "      <td>6.800</td>\n",
       "      <td>47000.0</td>\n",
       "    </tr>\n",
       "    <tr>\n",
       "      <th>6898137</th>\n",
       "      <td>2022-07-18</td>\n",
       "      <td>NaN</td>\n",
       "      <td>NASDAQ</td>\n",
       "      <td>6.450</td>\n",
       "      <td>8.490</td>\n",
       "      <td>6.300</td>\n",
       "      <td>6.700</td>\n",
       "      <td>6.700</td>\n",
       "      <td>69400.0</td>\n",
       "    </tr>\n",
       "    <tr>\n",
       "      <th>...</th>\n",
       "      <td>...</td>\n",
       "      <td>...</td>\n",
       "      <td>...</td>\n",
       "      <td>...</td>\n",
       "      <td>...</td>\n",
       "      <td>...</td>\n",
       "      <td>...</td>\n",
       "      <td>...</td>\n",
       "      <td>...</td>\n",
       "    </tr>\n",
       "    <tr>\n",
       "      <th>6898598</th>\n",
       "      <td>2024-05-16</td>\n",
       "      <td>NaN</td>\n",
       "      <td>NASDAQ</td>\n",
       "      <td>0.590</td>\n",
       "      <td>0.600</td>\n",
       "      <td>0.570</td>\n",
       "      <td>0.590</td>\n",
       "      <td>0.590</td>\n",
       "      <td>134700.0</td>\n",
       "    </tr>\n",
       "    <tr>\n",
       "      <th>6898599</th>\n",
       "      <td>2024-05-17</td>\n",
       "      <td>NaN</td>\n",
       "      <td>NASDAQ</td>\n",
       "      <td>0.619</td>\n",
       "      <td>0.663</td>\n",
       "      <td>0.590</td>\n",
       "      <td>0.610</td>\n",
       "      <td>0.610</td>\n",
       "      <td>532000.0</td>\n",
       "    </tr>\n",
       "    <tr>\n",
       "      <th>6898600</th>\n",
       "      <td>2024-05-20</td>\n",
       "      <td>NaN</td>\n",
       "      <td>NASDAQ</td>\n",
       "      <td>0.592</td>\n",
       "      <td>0.609</td>\n",
       "      <td>0.575</td>\n",
       "      <td>0.595</td>\n",
       "      <td>0.595</td>\n",
       "      <td>110000.0</td>\n",
       "    </tr>\n",
       "    <tr>\n",
       "      <th>6898601</th>\n",
       "      <td>2024-05-21</td>\n",
       "      <td>NaN</td>\n",
       "      <td>NASDAQ</td>\n",
       "      <td>0.621</td>\n",
       "      <td>0.650</td>\n",
       "      <td>0.581</td>\n",
       "      <td>0.584</td>\n",
       "      <td>0.584</td>\n",
       "      <td>335900.0</td>\n",
       "    </tr>\n",
       "    <tr>\n",
       "      <th>6898602</th>\n",
       "      <td>2024-05-22</td>\n",
       "      <td>NaN</td>\n",
       "      <td>NASDAQ</td>\n",
       "      <td>0.551</td>\n",
       "      <td>0.580</td>\n",
       "      <td>0.530</td>\n",
       "      <td>0.542</td>\n",
       "      <td>0.542</td>\n",
       "      <td>190700.0</td>\n",
       "    </tr>\n",
       "  </tbody>\n",
       "</table>\n",
       "<p>470 rows × 9 columns</p>\n",
       "</div>"
      ],
      "text/plain": [
       "              Date Ticker Exchange   Open    High    Low   Close  Adj Close  \\\n",
       "6898133 2022-07-12    NaN   NASDAQ  7.610  13.390  7.510  12.050     12.050   \n",
       "6898134 2022-07-13    NaN   NASDAQ  9.770  12.000  8.800   8.800      8.800   \n",
       "6898135 2022-07-14    NaN   NASDAQ  8.010   8.260  6.321   7.350      7.350   \n",
       "6898136 2022-07-15    NaN   NASDAQ  7.640   7.820  6.800   6.800      6.800   \n",
       "6898137 2022-07-18    NaN   NASDAQ  6.450   8.490  6.300   6.700      6.700   \n",
       "...            ...    ...      ...    ...     ...    ...     ...        ...   \n",
       "6898598 2024-05-16    NaN   NASDAQ  0.590   0.600  0.570   0.590      0.590   \n",
       "6898599 2024-05-17    NaN   NASDAQ  0.619   0.663  0.590   0.610      0.610   \n",
       "6898600 2024-05-20    NaN   NASDAQ  0.592   0.609  0.575   0.595      0.595   \n",
       "6898601 2024-05-21    NaN   NASDAQ  0.621   0.650  0.581   0.584      0.584   \n",
       "6898602 2024-05-22    NaN   NASDAQ  0.551   0.580  0.530   0.542      0.542   \n",
       "\n",
       "            Volume  \n",
       "6898133  1486800.0  \n",
       "6898134   264400.0  \n",
       "6898135   134100.0  \n",
       "6898136    47000.0  \n",
       "6898137    69400.0  \n",
       "...            ...  \n",
       "6898598   134700.0  \n",
       "6898599   532000.0  \n",
       "6898600   110000.0  \n",
       "6898601   335900.0  \n",
       "6898602   190700.0  \n",
       "\n",
       "[470 rows x 9 columns]"
      ]
     },
     "execution_count": 61,
     "metadata": {},
     "output_type": "execute_result"
    }
   ],
   "source": [
    "# find where the missing ticker values are\n",
    "df.loc[pd.isnull(df['Ticker'])]"
   ]
  },
  {
   "cell_type": "markdown",
   "metadata": {},
   "source": [
    "The values start from 12 July 2022, perhaps the previous and later values can make it clear which stock this is supposed to be."
   ]
  },
  {
   "cell_type": "code",
   "execution_count": 62,
   "metadata": {},
   "outputs": [
    {
     "data": {
      "text/plain": [
       "Date         2024-05-22 00:00:00\n",
       "Ticker                      MYSZ\n",
       "Exchange                  NASDAQ\n",
       "Open                        4.53\n",
       "High                         4.6\n",
       "Low                          4.1\n",
       "Close                       4.25\n",
       "Adj Close                   4.25\n",
       "Volume                   37800.0\n",
       "Name: 6898132, dtype: object"
      ]
     },
     "execution_count": 62,
     "metadata": {},
     "output_type": "execute_result"
    }
   ],
   "source": [
    "# find the stock name before the missing values\n",
    "df.iloc[6898132]"
   ]
  },
  {
   "cell_type": "code",
   "execution_count": 63,
   "metadata": {},
   "outputs": [
    {
     "data": {
      "text/plain": [
       "Date         2017-10-20 00:00:00\n",
       "Ticker                      NAAS\n",
       "Exchange                  NASDAQ\n",
       "Open                       80.25\n",
       "High                   89.300003\n",
       "Low                         80.0\n",
       "Close                  83.050003\n",
       "Adj Close              83.050003\n",
       "Volume                 2308940.0\n",
       "Name: 6898603, dtype: object"
      ]
     },
     "execution_count": 63,
     "metadata": {},
     "output_type": "execute_result"
    }
   ],
   "source": [
    "# find the stock name before the missing values\n",
    "df.iloc[6898603]"
   ]
  },
  {
   "cell_type": "markdown",
   "metadata": {},
   "source": [
    "We can see on either side we have two different stocks so we can't be sure which stock this is supposed to be. For this project, we will simply drop this unknown stock and drop any stock that has missing values as well."
   ]
  },
  {
   "cell_type": "code",
   "execution_count": 64,
   "metadata": {},
   "outputs": [],
   "source": [
    "# drop all null values\n",
    "df = df.dropna()"
   ]
  },
  {
   "cell_type": "code",
   "execution_count": 67,
   "metadata": {},
   "outputs": [
    {
     "data": {
      "text/plain": [
       "Date         0\n",
       "Ticker       0\n",
       "Exchange     0\n",
       "Open         0\n",
       "High         0\n",
       "Low          0\n",
       "Close        0\n",
       "Adj Close    0\n",
       "Volume       0\n",
       "dtype: int64"
      ]
     },
     "execution_count": 67,
     "metadata": {},
     "output_type": "execute_result"
    }
   ],
   "source": [
    "df.isnull().sum()"
   ]
  },
  {
   "cell_type": "code",
   "execution_count": 72,
   "metadata": {},
   "outputs": [],
   "source": [
    "# drop rows with the stocks that have incomplete data\n",
    "mask = df['Ticker'].isin(stocks_with_missing_data) # boolean mask\n",
    "df = df[~mask]"
   ]
  },
  {
   "cell_type": "code",
   "execution_count": 73,
   "metadata": {},
   "outputs": [
    {
     "data": {
      "text/plain": [
       "Date         0\n",
       "Ticker       0\n",
       "Exchange     0\n",
       "Open         0\n",
       "High         0\n",
       "Low          0\n",
       "Close        0\n",
       "Adj Close    0\n",
       "Volume       0\n",
       "dtype: int64"
      ]
     },
     "execution_count": 73,
     "metadata": {},
     "output_type": "execute_result"
    }
   ],
   "source": [
    "# check that we have no null values and that we have removed the incomplete stocks\n",
    "df.isnull().sum()"
   ]
  },
  {
   "cell_type": "code",
   "execution_count": 74,
   "metadata": {},
   "outputs": [
    {
     "data": {
      "text/plain": [
       "Date           15705\n",
       "Ticker          3355\n",
       "Exchange           1\n",
       "Open          457829\n",
       "High          483869\n",
       "Low           473409\n",
       "Close         463953\n",
       "Adj Close    3357173\n",
       "Volume        637908\n",
       "dtype: int64"
      ]
     },
     "execution_count": 74,
     "metadata": {},
     "output_type": "execute_result"
    }
   ],
   "source": [
    "df.nunique()"
   ]
  },
  {
   "cell_type": "markdown",
   "metadata": {},
   "source": [
    "We now have 3355 stocks as expected and now null values."
   ]
  },
  {
   "cell_type": "code",
   "execution_count": 75,
   "metadata": {},
   "outputs": [],
   "source": [
    "# Collect names of the stocks in an array\n",
    "\n",
    "stocks = df.iloc[:,1].unique()"
   ]
  },
  {
   "cell_type": "markdown",
   "metadata": {},
   "source": [
    "## Exploratory Data Analysis and Visualization"
   ]
  },
  {
   "cell_type": "code",
   "execution_count": null,
   "metadata": {},
   "outputs": [],
   "source": []
  }
 ],
 "metadata": {
  "kernelspec": {
   "display_name": "Python 3",
   "language": "python",
   "name": "python3"
  },
  "language_info": {
   "codemirror_mode": {
    "name": "ipython",
    "version": 3
   },
   "file_extension": ".py",
   "mimetype": "text/x-python",
   "name": "python",
   "nbconvert_exporter": "python",
   "pygments_lexer": "ipython3",
   "version": "3.11.2"
  }
 },
 "nbformat": 4,
 "nbformat_minor": 2
}
